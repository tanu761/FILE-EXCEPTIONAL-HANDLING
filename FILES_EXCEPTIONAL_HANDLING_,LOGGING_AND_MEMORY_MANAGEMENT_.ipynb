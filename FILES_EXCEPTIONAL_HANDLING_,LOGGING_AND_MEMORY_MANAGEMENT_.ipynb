{
  "cells": [
    {
      "cell_type": "markdown",
      "source": [
        "# THEORTICAL QUESTIONS.."
      ],
      "metadata": {
        "id": "27uRu8byC7vq"
      }
    },
    {
      "cell_type": "markdown",
      "source": [
        "1.Ques.\n",
        "\n",
        "Ans..Compiled Languages>>: In compiled languages, the source code is translated all at once into machine code by a compiler before it is run. WHEREAS...\n",
        "\n",
        "\n",
        ":Interpreted Languages: In interpreted languages, the source code is read and executed line-by-line by an interpreter at runtime.\n"
      ],
      "metadata": {
        "id": "lAR2myuBDG0y"
      }
    },
    {
      "cell_type": "markdown",
      "source": [
        "2.Ques\n",
        "\n",
        "Ans..EXCEPTION HANDLING>>:Exception handling in Python is a way to manage errors that occur during the execution of a program, so the program doesn't crash unexpectedly. It allows you to anticipate and gracefully respond to runtime errors.\n",
        "\n"
      ],
      "metadata": {
        "id": "JM2wLuNbE_9P"
      }
    },
    {
      "cell_type": "markdown",
      "source": [
        "3Ques.\n",
        "\n",
        "ANS...The finally block in Python is used to define code that should run no matter what — whether an exception is raised or not. It’s often used for cleanup actions, such as closing files, releasing resources, or resetting states.\n",
        "\n"
      ],
      "metadata": {
        "id": "9OFdfLKRFojT"
      }
    },
    {
      "cell_type": "markdown",
      "source": [
        "4.Ques.\n",
        "\n",
        "ANS..Logging in Python is a way to track events that happen when your program runs. It records messages about your program's execution — useful for debugging, auditing, and monitoring.\n",
        "\n"
      ],
      "metadata": {
        "id": "vjUoeAylGERn"
      }
    },
    {
      "cell_type": "markdown",
      "source": [
        "5.Ques\n",
        "\n",
        "ANS..The __del__ method in Python is a special method known as a destructor. It is called automatically when an object is about to be destroyed — that is, when it is garbage collected.\n",
        "\n"
      ],
      "metadata": {
        "id": "7PfoBYkmGVQj"
      }
    },
    {
      "cell_type": "markdown",
      "source": [
        "6.Ques.\n",
        "\n",
        "ANS..In Python, both import and from ... import are used to bring external modules or specific components of modules into your code, but they work differently in terms of what gets imported and how you access it.\n",
        "\n"
      ],
      "metadata": {
        "id": "5wR6DXkYGrVO"
      }
    },
    {
      "cell_type": "markdown",
      "source": [
        "7.Ques.\n",
        "\n",
        "ANS..In Python, you can handle multiple exceptions in several ways using try and except blocks. This helps make your program more robust and avoids crashes when different types of errors may occur.\n",
        "\n",
        "\n",
        "✅ 1. Handling Multiple Exceptions Separately\n",
        "\n",
        "✅ 2. Handling Multiple Exceptions Together\n",
        "\n",
        "✅ 3. Catching All Exceptions (Generic Handler)\n",
        "\n",
        "✅ 4. Using else and finally with Multiple Exceptions.\n",
        "\n",
        "\n",
        "\n",
        "\n",
        "\n"
      ],
      "metadata": {
        "id": "4hm2Y6L6HClD"
      }
    },
    {
      "cell_type": "markdown",
      "source": [
        "8.Ques.\n",
        "\n",
        "ANS..The with statement in Python is used for resource management, especially when working with files. Its main purpose is to ensure that resources like files are properly cleaned up (e.g., closed) after use — even if an error occurs.\n",
        "\n"
      ],
      "metadata": {
        "id": "5yNZDyetH47x"
      }
    },
    {
      "cell_type": "markdown",
      "source": [
        "9.Ques.\n",
        "\n",
        "ANS..🔁 Multithreading>>Uses multiple threads within a single process.All threads share the same memory space.\n",
        "\n",
        "Best for I/O-bound tasks (e.g., file I/O, network operations).\n",
        "\n",
        "\n",
        "🔁 Multiprocessing>>Uses multiple processes, each with its own memory space.\n",
        "\n",
        "Each process runs in its own Python interpreter.\n",
        "\n",
        "Best for CPU-bound tasks (e.g., heavy computation).\n"
      ],
      "metadata": {
        "id": "cG6gRaZaIV5A"
      }
    },
    {
      "cell_type": "markdown",
      "source": [
        "10.Ques.\n",
        "\n",
        "ANS..Using logging in Python has several important advantages over using print() statements, especially in real-world applications and production environments. Here’s why you should use the logging module:\n",
        "\n",
        "✅ 1. Better Control Over Output\n",
        "\n",
        "✅ 2. Logging to Files (Not Just Console)\n",
        "\n",
        "✅ 3. Useful for Debugging and Monitoring\n",
        "\n",
        "✅ 4. No Need to Remove Later (Unlike print())\n",
        "\n",
        "✅ 5. Flexible Formatting..\n",
        "\n",
        "\n",
        "\n",
        "\n"
      ],
      "metadata": {
        "id": "wmjHW7iKJKER"
      }
    },
    {
      "cell_type": "markdown",
      "source": [
        "11.Ques.\n",
        "\n",
        "ANS..Memory management in Python refers to the way Python handles the allocation, usage, and release of memory during program execution. Python uses a combination of strategies to manage memory efficiently, ensuring that objects are stored and cleaned up properly without manual intervention by the programmer.\n",
        "\n"
      ],
      "metadata": {
        "id": "vQTobalUM8p0"
      }
    },
    {
      "cell_type": "markdown",
      "source": [
        "12.Ques.\n",
        "\n",
        "ANS..Exception handling in Python is the process of responding to runtime errors (exceptions) in a controlled way, so the program doesn't crash abruptly.\n",
        "\n",
        "\n",
        "✅ 1. Use try Block to Wrap Risky Code\n",
        "\n",
        "✅ 2. Use except Block to Handle the Exception\n",
        "\n",
        "✅ 3. Optional: Use else Block for Code That Runs If No Exception Occurs\n",
        "\n",
        "✅ 4. Optional: Use finally Block for Cleanup Code\n",
        "\n"
      ],
      "metadata": {
        "id": "lGIXhvrvNh_b"
      }
    },
    {
      "cell_type": "markdown",
      "source": [
        "13.Ques.\n",
        "\n",
        "ANS..Memory management is important in Python for the same core reason it's important in any programming language: to ensure that your program uses resources efficiently, reliably, and safely. Here's why it's particularly important in Python:\n",
        "\n",
        "🔹 1. Prevents Memory Leaks\n",
        "\n",
        "🔹 2. Improves Performance\n",
        "\n",
        "🔹 3. Supports Automatic Garbage Collection\n",
        "\n"
      ],
      "metadata": {
        "id": "AoM2nZCSOl1T"
      }
    },
    {
      "cell_type": "markdown",
      "source": [
        "14.Ques.\n",
        "\n",
        "ANS..In Python, the try and except blocks are used for exception handling, which allows your program to respond gracefully to errors instead of crashing.\n",
        "\n",
        "\n",
        "Purpose:\n",
        "\n",
        "try block: Contains code that might raise an exception.\n",
        "\n",
        "except block: Catches and handles the exception if it occurs.\n",
        "\n"
      ],
      "metadata": {
        "id": "EwTfTLtbPHrV"
      }
    },
    {
      "cell_type": "markdown",
      "source": [
        "15.Ques.\n",
        "\n",
        "ANS..Python’s garbage collection system is responsible for automatically managing memory — it frees up memory used by objects that are no longer needed. Here's how it works:\n",
        "\n",
        "\n",
        "🔁 1. Reference Counting (Primary Method)\n",
        "\n",
        "♻️ 2. Garbage Collector for Cyclic References\n",
        "\n",
        "🧠 3. Generational Garbage Collection\n"
      ],
      "metadata": {
        "id": "hOJbNTFgKcHb"
      }
    },
    {
      "cell_type": "markdown",
      "source": [
        "16.Ques.\n",
        "\n",
        "ANS..In Python, the else block in exception handling is used to define code that should run only if no exceptions occur in the try block.\n",
        "\n",
        "\n",
        "🔍 Purpose of else:\n",
        "\n",
        "It separates the code that should run only when the try block succeeds from the code in the try itself.\n",
        "\n",
        "\n",
        "This improves readability and logic clarity.\n",
        "\n"
      ],
      "metadata": {
        "id": "70ZUIXMlLDvP"
      }
    },
    {
      "cell_type": "markdown",
      "source": [
        "17.Ques.\n",
        "\n",
        "ANS..In Python's logging module, logging levels are used to indicate the severity or importance of log messages. These levels help control what gets logged and what doesn't, especially in larger applications.\n",
        "\n",
        "\n",
        "| Level      | Numeric Value | Description                                                       |\n",
        "| ---------- | ------------- | ----------------------------------------------------------------- |\n",
        "| `CRITICAL` | 50            | Serious error; program may not be able to continue.               |\n",
        "| `ERROR`    | 40            | A major problem that caused a function to fail.                   |\n",
        "| `WARNING`  | 30            | Something unexpected, but not an error; the program can continue. |\n",
        "| `INFO`     | 20            | General information about program execution.                      |\n",
        "| `DEBUG`    | 10            | Detailed information, typically useful for diagnosing problems.   |\n",
        "| `NOTSET`   | 0             | Used to indicate that no specific level has been set.             |\n"
      ],
      "metadata": {
        "id": "MyWS5j-lLtx5"
      }
    },
    {
      "cell_type": "markdown",
      "source": [
        "18.Ques.\n",
        "\n",
        "ANS..The difference between os.fork() and the multiprocessing module in Python lies in abstraction, portability, and ease of use. Here's a clear comparison:\n",
        "\n",
        "\n",
        "🧱 1. os.fork() — Low-Level Process Creation\n",
        "Directly creates a child process by duplicating the current process.\n",
        "\n",
        "\n",
        "⚙️ 2. multiprocessing module — High-Level Process Management\n",
        "Provides a high-level API for creating and managing processes.\n",
        "\n"
      ],
      "metadata": {
        "id": "0_Jabn35MR62"
      }
    },
    {
      "cell_type": "markdown",
      "source": [
        "19.Ques.\n",
        "\n",
        "ANS..Closing a file in Python is very important for ensuring proper resource management and data integrity. Here's why:\n",
        "\n",
        "\n",
        "🔒 1. Releases System Resources\n",
        "\n",
        "💾 2. Ensures Data Is Written to Disk\n",
        "\n",
        "🔄 3. Avoids File Corruption or Locking Issues\n",
        "\n",
        "\n"
      ],
      "metadata": {
        "id": "V4L_8SnRNFZv"
      }
    },
    {
      "cell_type": "markdown",
      "source": [
        "20.Ques.\n",
        "\n",
        "ANS..\n",
        "\n",
        "| Feature      | `file.read()`                    | `file.readline()`                 |\n",
        "| ------------ | -------------------------------- | --------------------------------- |\n",
        "| Reads        | Entire file (or specified chars) | One line at a time                |\n",
        "| Returns      | One big string                   | One line as a string              |\n",
        "| Memory Usage | Higher for large files           | Lower, suitable for large files   |\n",
        "| Use Case     | Small/medium files               | Large files or line-by-line logic |\n"
      ],
      "metadata": {
        "id": "vBJtetknNrRi"
      }
    },
    {
      "cell_type": "markdown",
      "source": [
        "21.Ques.\n",
        "\n",
        "ANS..🧠 Why Use the logging Module?\n",
        "\n",
        "*  Replaces print() for more professional and configurable output\n",
        "\n",
        "*  Helps in debugging, auditing, and troubleshooting\n",
        "\n",
        "*  Allows different severity levels of messages (e.g., DEBUG, ERROR)\n",
        "\n",
        "*  Supports writing logs to files, console, or even remote servers\n",
        "\n",
        "\n",
        "\n",
        "\n"
      ],
      "metadata": {
        "id": "l_SNb9ZPOC7m"
      }
    },
    {
      "cell_type": "markdown",
      "source": [
        "22.Ques.\n",
        "\n",
        "ANS..\n",
        "\n",
        "| Feature              | Benefit                                 |\n",
        "| -------------------- | --------------------------------------- |\n",
        "| Platform-independent | Works across Windows, macOS, Linux      |\n",
        "| Low-level control    | Direct access to file system operations |\n",
        "| Directory management | Create, delete, navigate folders        |\n",
        "| File validation      | Check existence, type, size             |\n"
      ],
      "metadata": {
        "id": "g4vt9n_dPIs4"
      }
    },
    {
      "cell_type": "markdown",
      "source": [
        "23.Ques.\n",
        "\n",
        "ANS..Memory management in Python is generally automatic, thanks to its built-in garbage collector and reference counting, but it still comes with certain challenges and limitations—especially in large or performance-critical applications.\n",
        "\n",
        "\n",
        "| Challenge              | Description                                     |\n",
        "| ---------------------- | ----------------------------------------------- |\n",
        "| Circular references    | Can delay or prevent memory release             |\n",
        "| Memory leaks           | Retained unused references waste memory         |\n",
        "| Fragmentation          | Inefficient reuse of memory blocks              |\n",
        "| High object overhead   | Python objects carry extra metadata             |\n",
        "| Limited manual control | Can't explicitly manage allocation/deallocation |\n",
        "| GC overhead            | Garbage collection adds runtime cost            |\n",
        "| Inefficient data usage | Poor data structure choices waste memory        |\n"
      ],
      "metadata": {
        "id": "6stlylc9P1Ei"
      }
    },
    {
      "cell_type": "markdown",
      "source": [
        "24.Ques.\n",
        "\n",
        "ANS..\n",
        "\n",
        "| Use Case                  | How to Raise                                   |\n",
        "| ------------------------- | ---------------------------------------------- |\n",
        "| Raise built-in exception    | `raise ValueError(\"Invalid value\")`            |\n",
        "| Raise custom exception    | `raise MyError(\"Custom error\")`                |\n",
        "| Re-raise caught exception    | Use `raise` inside `except` block without args |\n"
      ],
      "metadata": {
        "id": "b2IrwfyWQnTX"
      }
    },
    {
      "cell_type": "markdown",
      "source": [
        "25.Ques.\n",
        "\n",
        "ANS..Here's a simple Python program that writes to a log file whenever an error occurs during file handling using the logging module.\n",
        "\n",
        "import logging\n",
        "# Configure logging to write errors to 'error.log' with timestamp and error level\n",
        "logging.basicConfig(\n",
        "    filename='error.log',\n",
        "    level=logging.ERROR,\n",
        "    format='%(asctime)s - %(levelname)s - %(message)s'\n",
        ")\n",
        "\n",
        "def read_file(filename):\n",
        "    try:\n",
        "        with open(filename, 'r') as file:\n",
        "            content = file.read()\n",
        "            print(content)\n",
        "    except Exception as e:\n",
        "        logging.error(f\"Error occurred while handling file '{filename}': {e}\")\n",
        "\n",
        "# Example usage:\n",
        "read_file(\"non_existent_file.txt\")\n",
        "\n"
      ],
      "metadata": {
        "id": "HxmmaW_eQ-Dv"
      }
    },
    {
      "cell_type": "markdown",
      "source": [
        "#( PRACTICAL QUESTIONS )"
      ],
      "metadata": {
        "id": "Zs2s36n9ScJJ"
      }
    },
    {
      "cell_type": "markdown",
      "source": [
        "1.Ques.\n",
        "\n",
        "ANS.."
      ],
      "metadata": {
        "id": "9vSp9geJSmT3"
      }
    },
    {
      "cell_type": "code",
      "source": [
        "with open(\"example.txt\", \"w\") as file:\n",
        "    file.write(\"Hello, this is a sample string!\")\n"
      ],
      "metadata": {
        "id": "ix7hPvNJSpQN"
      },
      "execution_count": null,
      "outputs": []
    },
    {
      "cell_type": "markdown",
      "source": [
        "2.Ques.\n",
        "\n",
        "ANS.."
      ],
      "metadata": {
        "id": "eSYyylf_TT6K"
      }
    },
    {
      "cell_type": "code",
      "source": [
        "filename = \"example.txt\"\n",
        "\n",
        "with open(filename, \"r\") as file:\n",
        "    for line in file:\n",
        "        print(line, end='')  # end='' avoids adding extra newlines\n"
      ],
      "metadata": {
        "colab": {
          "base_uri": "https://localhost:8080/"
        },
        "id": "la5zuIU4ThWO",
        "outputId": "61a30041-7abd-4643-b745-0bf2edb5c6af"
      },
      "execution_count": null,
      "outputs": [
        {
          "output_type": "stream",
          "name": "stdout",
          "text": [
            "Hello, this is a sample string!"
          ]
        }
      ]
    },
    {
      "cell_type": "markdown",
      "source": [
        "3.Ques\n",
        "\n",
        "ANS.."
      ],
      "metadata": {
        "id": "LN2PigMOT1uH"
      }
    },
    {
      "cell_type": "code",
      "source": [
        "try:\n",
        "    with open('filename.txt', 'r') as file:\n",
        "        content = file.read()\n",
        "        print(content)\n",
        "except FileNotFoundError:\n",
        "    print(\"The file does not exist.\")\n"
      ],
      "metadata": {
        "colab": {
          "base_uri": "https://localhost:8080/"
        },
        "id": "hpa8jCOSU1_S",
        "outputId": "93aac15c-24ff-4659-d245-11d583007c83"
      },
      "execution_count": 1,
      "outputs": [
        {
          "output_type": "stream",
          "name": "stdout",
          "text": [
            "The file does not exist.\n"
          ]
        }
      ]
    },
    {
      "cell_type": "markdown",
      "source": [
        "4.Ques\n",
        "\n",
        "ANS.."
      ],
      "metadata": {
        "id": "NZnKDXMNVZPL"
      }
    },
    {
      "cell_type": "code",
      "source": [
        "def copy_file(source_file, destination_file):\n",
        "    try:\n",
        "        with open(source_file, 'r') as src:\n",
        "            content = src.read()\n",
        "\n",
        "        with open(destination_file, 'w') as dst:\n",
        "            dst.write(content)\n",
        "\n",
        "        print(f\"Content successfully copied from '{source_file}' to '{destination_file}'.\")\n",
        "    except FileNotFoundError:\n",
        "        print(f\"Error: The file '{source_file}' does not exist.\")\n",
        "    except IOError as e:\n",
        "        print(f\"An I/O error occurred: {e}\")\n",
        "\n",
        "# Example usage\n",
        "source = 'input.txt'\n",
        "destination = 'output.txt'\n",
        "copy_file(source, destination)\n"
      ],
      "metadata": {
        "colab": {
          "base_uri": "https://localhost:8080/"
        },
        "id": "rbsNJPLjVeD2",
        "outputId": "4828bbab-d3e6-4732-d156-5ba389311484"
      },
      "execution_count": 2,
      "outputs": [
        {
          "output_type": "stream",
          "name": "stdout",
          "text": [
            "Error: The file 'input.txt' does not exist.\n"
          ]
        }
      ]
    },
    {
      "cell_type": "markdown",
      "source": [
        "5.Ques\n",
        "\n",
        "ANS.."
      ],
      "metadata": {
        "id": "86dI3cR_V6Cr"
      }
    },
    {
      "cell_type": "code",
      "source": [
        "try:\n",
        "    numerator = 10\n",
        "    denominator = 0\n",
        "    result = numerator / denominator\n",
        "    print(\"Result:\", result)\n",
        "except ZeroDivisionError:\n",
        "    print(\"Error: Cannot divide by zero.\")\n"
      ],
      "metadata": {
        "colab": {
          "base_uri": "https://localhost:8080/"
        },
        "id": "nIiPN6YAV9d1",
        "outputId": "7a17f2fa-7c26-49e8-d823-a3c78d382165"
      },
      "execution_count": 3,
      "outputs": [
        {
          "output_type": "stream",
          "name": "stdout",
          "text": [
            "Error: Cannot divide by zero.\n"
          ]
        }
      ]
    },
    {
      "cell_type": "markdown",
      "source": [
        "6.Ques\n",
        "\n",
        "ANS.."
      ],
      "metadata": {
        "id": "VtFSR4npWsZJ"
      }
    },
    {
      "cell_type": "code",
      "source": [
        "import logging\n",
        "\n",
        "# Configure logging\n",
        "logging.basicConfig(\n",
        "    filename='error.log',       # Log file name\n",
        "    level=logging.ERROR,        # Log only ERROR and above levels\n",
        "    format='%(asctime)s - %(levelname)s - %(message)s'\n",
        ")\n",
        "\n",
        "def divide(a, b):\n",
        "    try:\n",
        "        return a / b\n",
        "    except ZeroDivisionError:\n",
        "        logging.error(\"Attempted to divide by zero: %d / %d\", a, b)\n",
        "\n",
        "# Example usage\n",
        "result = divide(10, 0)\n",
        "\n",
        "# If you want to check the result\n",
        "if result is not None:\n",
        "    print(\"Result:\", result)\n",
        "else:\n",
        "    print(\"An error occurred. Check 'error.log' for details.\")\n"
      ],
      "metadata": {
        "colab": {
          "base_uri": "https://localhost:8080/"
        },
        "id": "1qMbdyJnXJC6",
        "outputId": "4e28fff3-32b3-4d67-b030-1faccf8daa90"
      },
      "execution_count": 4,
      "outputs": [
        {
          "output_type": "stream",
          "name": "stderr",
          "text": [
            "ERROR:root:Attempted to divide by zero: 10 / 0\n"
          ]
        },
        {
          "output_type": "stream",
          "name": "stdout",
          "text": [
            "An error occurred. Check 'error.log' for details.\n"
          ]
        }
      ]
    },
    {
      "cell_type": "markdown",
      "source": [
        "7.Ques\n",
        "\n",
        "ANS.."
      ],
      "metadata": {
        "id": "qVqjzNVRXMM3"
      }
    },
    {
      "cell_type": "code",
      "source": [
        "import logging\n",
        "\n",
        "# Configure logging\n",
        "logging.basicConfig(\n",
        "    filename='app.log',          # Log file name\n",
        "    level=logging.DEBUG,         # Set the minimum level to DEBUG to capture all levels\n",
        "    format='%(asctime)s - %(levelname)s - %(message)s'\n",
        ")\n",
        "\n",
        "# Logging at various levels\n",
        "logging.debug(\"This is a debug message\")       # Detailed information, useful for diagnosing problems\n",
        "logging.info(\"This is an info message\")        # General information about program execution\n",
        "logging.warning(\"This is a warning message\")   # Something unexpected, but not an error\n",
        "logging.error(\"This is an error message\")      # A more serious problem\n",
        "logging.critical(\"This is a critical message\") # A very serious error, indicating the program may not continue\n"
      ],
      "metadata": {
        "colab": {
          "base_uri": "https://localhost:8080/"
        },
        "id": "1bX0zAVXYfKJ",
        "outputId": "67ac7b5f-6357-4daa-993d-970912d54ddc"
      },
      "execution_count": 7,
      "outputs": [
        {
          "output_type": "stream",
          "name": "stderr",
          "text": [
            "WARNING:root:This is a warning message\n",
            "ERROR:root:This is an error message\n",
            "CRITICAL:root:This is a critical message\n"
          ]
        }
      ]
    },
    {
      "cell_type": "markdown",
      "source": [
        "8.Ques\n",
        "\n",
        "ANS.."
      ],
      "metadata": {
        "id": "IAFDrjtuYoIX"
      }
    },
    {
      "cell_type": "code",
      "source": [
        "def read_file(filename):\n",
        "    try:\n",
        "        with open(filename, 'r') as file:\n",
        "            content = file.read()\n",
        "            print(\"File content:\\n\", content)\n",
        "    except FileNotFoundError:\n",
        "        print(f\"Error: The file '{filename}' was not found.\")\n",
        "    except IOError as e:\n",
        "        print(f\"An I/O error occurred: {e}\")\n",
        "\n",
        "# Example usage\n",
        "filename = 'nonexistent_file.txt'\n",
        "read_file(filename)\n"
      ],
      "metadata": {
        "colab": {
          "base_uri": "https://localhost:8080/"
        },
        "id": "eWHFv_34ZYSW",
        "outputId": "52414f14-ad4e-4668-cd56-e63524bf3f3c"
      },
      "execution_count": 9,
      "outputs": [
        {
          "output_type": "stream",
          "name": "stdout",
          "text": [
            "Error: The file 'nonexistent_file.txt' was not found.\n"
          ]
        }
      ]
    },
    {
      "cell_type": "markdown",
      "source": [
        "9.Ques\n",
        "\n",
        "ANS.."
      ],
      "metadata": {
        "id": "m9TlyH0wZh3v"
      }
    },
    {
      "cell_type": "code",
      "source": [
        "def read_file_to_list(filename):\n",
        "    try:\n",
        "        with open(filename, 'r') as file:\n",
        "            lines = file.readlines()  # Reads all lines into a list\n",
        "            # Optionally strip newline characters:\n",
        "            lines = [line.strip() for line in lines]\n",
        "            return lines\n",
        "    except FileNotFoundError:\n",
        "        print(f\"Error: The file '{filename}' was not found.\")\n",
        "        return []\n",
        "    except IOError as e:\n",
        "        print(f\"An I/O error occurred: {e}\")\n",
        "        return []\n",
        "\n",
        "# Example usage\n",
        "filename = 'example.txt'\n",
        "lines_list = read_file_to_list(filename)\n",
        "\n",
        "print(\"Lines in file:\")\n",
        "for line in lines_list:\n",
        "    print(line)\n"
      ],
      "metadata": {
        "colab": {
          "base_uri": "https://localhost:8080/"
        },
        "id": "o1XA4TNoZlWn",
        "outputId": "fa9bd9aa-b5f3-4121-ecbb-d5332e019ad8"
      },
      "execution_count": 10,
      "outputs": [
        {
          "output_type": "stream",
          "name": "stdout",
          "text": [
            "Error: The file 'example.txt' was not found.\n",
            "Lines in file:\n"
          ]
        }
      ]
    },
    {
      "cell_type": "markdown",
      "source": [
        "10.Ques\n",
        "\n",
        "ANS.."
      ],
      "metadata": {
        "id": "-aETA1OLZ1ib"
      }
    },
    {
      "cell_type": "code",
      "source": [
        "def append_to_file(filename, data):\n",
        "    try:\n",
        "        with open(filename, 'a') as file:\n",
        "            file.write(data + '\\n')  # Appends data followed by a newline\n",
        "        print(f\"Data appended to '{filename}'.\")\n",
        "    except IOError as e:\n",
        "        print(f\"An I/O error occurred: {e}\")\n",
        "\n",
        "# Example usage\n",
        "append_to_file('example.txt', 'This is a new line.')\n"
      ],
      "metadata": {
        "colab": {
          "base_uri": "https://localhost:8080/"
        },
        "id": "A0EgUPB_Z5R_",
        "outputId": "5b6b3386-6a66-43c1-ea82-8a965daa5ccd"
      },
      "execution_count": 11,
      "outputs": [
        {
          "output_type": "stream",
          "name": "stdout",
          "text": [
            "Data appended to 'example.txt'.\n"
          ]
        }
      ]
    },
    {
      "cell_type": "markdown",
      "source": [
        "11.Ques\n",
        "\n",
        "ANS.."
      ],
      "metadata": {
        "id": "fH--KbqKaIER"
      }
    },
    {
      "cell_type": "code",
      "source": [
        "def get_value_from_dict(dictionary, key):\n",
        "    try:\n",
        "        value = dictionary[key]\n",
        "        print(f\"The value for key '{key}' is: {value}\")\n",
        "    except KeyError:\n",
        "        print(f\"Error: The key '{key}' does not exist in the dictionary.\")\n",
        "\n",
        "# Example usage\n",
        "my_dict = {\n",
        "    'name': 'Alice',\n",
        "    'age': 30\n",
        "}\n",
        "\n",
        "# Trying to access an existing key\n",
        "get_value_from_dict(my_dict, 'name')\n",
        "\n",
        "# Trying to access a non-existent key\n",
        "get_value_from_dict(my_dict, 'address')\n"
      ],
      "metadata": {
        "colab": {
          "base_uri": "https://localhost:8080/"
        },
        "id": "YQkGEQSqaSif",
        "outputId": "7d1696c6-d8cc-44d4-9ebf-61bee83d7d51"
      },
      "execution_count": 12,
      "outputs": [
        {
          "output_type": "stream",
          "name": "stdout",
          "text": [
            "The value for key 'name' is: Alice\n",
            "Error: The key 'address' does not exist in the dictionary.\n"
          ]
        }
      ]
    },
    {
      "cell_type": "markdown",
      "source": [
        "12.Ques\n",
        "\n",
        "ANS.."
      ],
      "metadata": {
        "id": "O9x7w1kLa_pr"
      }
    },
    {
      "cell_type": "code",
      "source": [
        "def divide_and_access_list(num, denom, lst, index):\n",
        "    try:\n",
        "        # Division\n",
        "        result = num / denom\n",
        "        print(f\"Division result: {result}\")\n",
        "\n",
        "        # Accessing list element\n",
        "        element = lst[index]\n",
        "        print(f\"Element at index {index}: {element}\")\n",
        "\n",
        "    except ZeroDivisionError:\n",
        "        print(\"Error: Cannot divide by zero.\")\n",
        "\n",
        "    except IndexError:\n",
        "        print(\"Error: List index out of range.\")\n",
        "\n",
        "    except TypeError:\n",
        "        print(\"Error: Invalid data type used.\")\n",
        "\n",
        "    except Exception as e:\n",
        "        print(f\"An unexpected error occurred: {e}\")\n",
        "\n",
        "# Example usage\n",
        "numbers = [10, 20, 30]\n",
        "\n",
        "# Case 1: Valid inputs\n",
        "divide_and_access_list(10, 2, numbers, 1)\n",
        "\n",
        "# Case 2: Division by zero\n",
        "divide_and_access_list(10, 0, numbers, 1)\n",
        "\n",
        "# Case 3: Index out of range\n",
        "divide_and_access_list(10, 2, numbers, 5)\n",
        "\n",
        "# Case 4: Passing wrong type (e.g., string instead of int)\n",
        "divide_and_access_list(10, 'a', numbers, 1)\n"
      ],
      "metadata": {
        "colab": {
          "base_uri": "https://localhost:8080/"
        },
        "id": "oBTZtUmRbCov",
        "outputId": "fbc2bbc5-3fa6-42e1-a1d7-4019173afa7e"
      },
      "execution_count": 13,
      "outputs": [
        {
          "output_type": "stream",
          "name": "stdout",
          "text": [
            "Division result: 5.0\n",
            "Element at index 1: 20\n",
            "Error: Cannot divide by zero.\n",
            "Division result: 5.0\n",
            "Error: List index out of range.\n",
            "Error: Invalid data type used.\n"
          ]
        }
      ]
    },
    {
      "cell_type": "markdown",
      "source": [
        "13.Ques\n",
        "\n",
        "ANS.."
      ],
      "metadata": {
        "id": "U8AnWhPIbYuH"
      }
    },
    {
      "cell_type": "code",
      "source": [
        "import os\n",
        "\n",
        "filename = 'example.txt'\n",
        "\n",
        "if os.path.exists(filename):\n",
        "    with open(filename, 'r') as file:\n",
        "        content = file.read()\n",
        "        print(content)\n",
        "else:\n",
        "    print(f\"The file '{filename}' does not exist.\")\n"
      ],
      "metadata": {
        "colab": {
          "base_uri": "https://localhost:8080/"
        },
        "id": "l7D2f0MTbbcd",
        "outputId": "0ac4fc74-c278-4260-a109-60026a71f626"
      },
      "execution_count": 14,
      "outputs": [
        {
          "output_type": "stream",
          "name": "stdout",
          "text": [
            "This is a new line.\n",
            "\n"
          ]
        }
      ]
    },
    {
      "cell_type": "markdown",
      "source": [
        "14.Ques\n",
        "\n",
        "ANS.."
      ],
      "metadata": {
        "id": "oNwg6MJgb0Ko"
      }
    },
    {
      "cell_type": "code",
      "source": [
        "import logging\n",
        "\n",
        "# Configure logging\n",
        "logging.basicConfig(\n",
        "    filename='app.log',          # Log file name\n",
        "    level=logging.DEBUG,         # Capture all levels DEBUG and above\n",
        "    format='%(asctime)s - %(levelname)s - %(message)s'\n",
        ")\n",
        "\n",
        "def divide(a, b):\n",
        "    try:\n",
        "        logging.info(f\"Attempting to divide {a} by {b}\")\n",
        "        result = a / b\n",
        "        logging.info(f\"Division successful, result: {result}\")\n",
        "        return result\n",
        "    except ZeroDivisionError:\n",
        "        logging.error(\"Error: Division by zero attempted\")\n",
        "        return None\n",
        "\n",
        "# Example usage\n",
        "divide(10, 2)\n",
        "divide(5, 0)\n"
      ],
      "metadata": {
        "colab": {
          "base_uri": "https://localhost:8080/"
        },
        "id": "ooSGMXiIb4iY",
        "outputId": "66b446d2-e10b-4358-b77b-c9557fb0b588"
      },
      "execution_count": 15,
      "outputs": [
        {
          "output_type": "stream",
          "name": "stderr",
          "text": [
            "ERROR:root:Error: Division by zero attempted\n"
          ]
        }
      ]
    },
    {
      "cell_type": "markdown",
      "source": [
        "15.Ques\n",
        "\n",
        "ANS.."
      ],
      "metadata": {
        "id": "gHkbrBbBcd_d"
      }
    },
    {
      "cell_type": "code",
      "source": [
        "def print_file_content(filename):\n",
        "    try:\n",
        "        with open(filename, 'r') as file:\n",
        "            content = file.read()\n",
        "            if content:\n",
        "                print(\"File content:\\n\", content)\n",
        "            else:\n",
        "                print(f\"The file '{filename}' is empty.\")\n",
        "    except FileNotFoundError:\n",
        "        print(f\"Error: The file '{filename}' does not exist.\")\n",
        "    except IOError as e:\n",
        "        print(f\"An I/O error occurred: {e}\")\n",
        "\n",
        "# Example usage\n",
        "filename = 'example.txt'\n",
        "print_file_content(filename)\n"
      ],
      "metadata": {
        "colab": {
          "base_uri": "https://localhost:8080/"
        },
        "id": "rlAxDksKcgSJ",
        "outputId": "e1f21f7b-0d89-4258-d4cc-8fcadaef6aeb"
      },
      "execution_count": 16,
      "outputs": [
        {
          "output_type": "stream",
          "name": "stdout",
          "text": [
            "File content:\n",
            " This is a new line.\n",
            "\n"
          ]
        }
      ]
    },
    {
      "cell_type": "markdown",
      "source": [
        "16.Ques\n",
        "\n",
        "ANS.."
      ],
      "metadata": {
        "id": "XDDgGe-Dcz01"
      }
    },
    {
      "cell_type": "code",
      "source": [
        "import os\n",
        "import psutil\n",
        "\n",
        "process = psutil.Process(os.getpid())\n",
        "print(f\"Memory usage: {process.memory_info().rss / 1024 ** 2:.2f} MB\")\n"
      ],
      "metadata": {
        "colab": {
          "base_uri": "https://localhost:8080/"
        },
        "id": "o0nAhOMIdxDV",
        "outputId": "04e35b7b-881e-45dd-bafa-8d611f69b3fb"
      },
      "execution_count": 20,
      "outputs": [
        {
          "output_type": "stream",
          "name": "stdout",
          "text": [
            "Memory usage: 115.09 MB\n"
          ]
        }
      ]
    },
    {
      "cell_type": "markdown",
      "source": [
        "17.Ques\n",
        "\n",
        "ANS.."
      ],
      "metadata": {
        "id": "lSegFPvMdzEd"
      }
    },
    {
      "cell_type": "code",
      "source": [
        "def write_numbers_to_file(filename, numbers):\n",
        "    try:\n",
        "        with open(filename, 'w') as file:\n",
        "            for number in numbers:\n",
        "                file.write(str(number) + '\\n')\n",
        "        print(f\"Numbers successfully written to '{filename}'.\")\n",
        "    except IOError as e:\n",
        "        print(f\"An I/O error occurred: {e}\")\n",
        "\n",
        "# Example usage\n",
        "numbers_list = [1, 2, 3, 4, 5, 10, 20]\n",
        "write_numbers_to_file('numbers.txt', numbers_list)\n"
      ],
      "metadata": {
        "colab": {
          "base_uri": "https://localhost:8080/"
        },
        "id": "5pBYNkmbeDHR",
        "outputId": "d0187b4a-0cc7-47e4-94d0-ee99966535b0"
      },
      "execution_count": 21,
      "outputs": [
        {
          "output_type": "stream",
          "name": "stdout",
          "text": [
            "Numbers successfully written to 'numbers.txt'.\n"
          ]
        }
      ]
    },
    {
      "cell_type": "markdown",
      "source": [
        "18.Ques\n",
        "\n",
        "ANS.."
      ],
      "metadata": {
        "id": "aplInpoYeb8V"
      }
    },
    {
      "cell_type": "code",
      "source": [
        "import logging\n",
        "from logging.handlers import RotatingFileHandler\n",
        "\n",
        "# Create a logger\n",
        "logger = logging.getLogger('my_logger')\n",
        "logger.setLevel(logging.DEBUG)  # Log all levels DEBUG and above\n",
        "\n",
        "# Create a rotating file handler\n",
        "handler = RotatingFileHandler(\n",
        "    'app.log',          # Log file name\n",
        "    maxBytes=1*1024*1024,  # 1 MB\n",
        "    backupCount=3       # Keep last 3 log files as backups\n",
        ")\n",
        "\n",
        "# Create a formatter and set it for the handler\n",
        "formatter = logging.Formatter('%(asctime)s - %(levelname)s - %(message)s')\n",
        "handler.setFormatter(formatter)\n",
        "\n",
        "# Add the handler to the logger\n",
        "logger.addHandler(handler)\n",
        "\n",
        "# Example logging calls\n",
        "logger.info(\"This is an info message.\")\n",
        "logger.error(\"This is an error message.\")\n"
      ],
      "metadata": {
        "colab": {
          "base_uri": "https://localhost:8080/"
        },
        "id": "aupj4CtYeefE",
        "outputId": "ba5e0feb-f802-4181-aa5d-8e09d80a80f2"
      },
      "execution_count": 22,
      "outputs": [
        {
          "output_type": "stream",
          "name": "stderr",
          "text": [
            "INFO:my_logger:This is an info message.\n",
            "ERROR:my_logger:This is an error message.\n"
          ]
        }
      ]
    },
    {
      "cell_type": "markdown",
      "source": [
        "19.Ques\n",
        "\n",
        "ANS.."
      ],
      "metadata": {
        "id": "LCZZiDQGe8r-"
      }
    },
    {
      "cell_type": "code",
      "source": [
        "def access_elements(lst, dictionary, index, key):\n",
        "    try:\n",
        "        print(f\"List element at index {index}: {lst[index]}\")\n",
        "        print(f\"Dictionary value for key '{key}': {dictionary[key]}\")\n",
        "    except IndexError:\n",
        "        print(f\"Error: Index {index} is out of range for the list.\")\n",
        "    except KeyError:\n",
        "        print(f\"Error: Key '{key}' does not exist in the dictionary.\")\n",
        "\n",
        "# Example usage\n",
        "my_list = [10, 20, 30]\n",
        "my_dict = {'a': 1, 'b': 2}\n",
        "\n",
        "# Valid access\n",
        "access_elements(my_list, my_dict, 1, 'a')\n",
        "\n",
        "# IndexError example\n",
        "access_elements(my_list, my_dict, 5, 'a')\n",
        "\n",
        "# KeyError example\n",
        "access_elements(my_list, my_dict, 1, 'z')\n"
      ],
      "metadata": {
        "colab": {
          "base_uri": "https://localhost:8080/"
        },
        "id": "eCI0giWde_eM",
        "outputId": "169dc3ab-11c3-4f39-f36e-c25d11657262"
      },
      "execution_count": 23,
      "outputs": [
        {
          "output_type": "stream",
          "name": "stdout",
          "text": [
            "List element at index 1: 20\n",
            "Dictionary value for key 'a': 1\n",
            "Error: Index 5 is out of range for the list.\n",
            "List element at index 1: 20\n",
            "Error: Key 'z' does not exist in the dictionary.\n"
          ]
        }
      ]
    },
    {
      "cell_type": "markdown",
      "source": [
        "20.Ques\n",
        "\n",
        "ANS.."
      ],
      "metadata": {
        "id": "_J3EAcqffVfY"
      }
    },
    {
      "cell_type": "code",
      "source": [
        "filename = 'example.txt'\n",
        "\n",
        "with open(filename, 'r') as file:\n",
        "    content = file.read()\n",
        "\n",
        "print(content)\n"
      ],
      "metadata": {
        "colab": {
          "base_uri": "https://localhost:8080/"
        },
        "id": "mTc7EGNifYyr",
        "outputId": "5b51244e-e1b6-40dd-bb28-6ded0ff11f0f"
      },
      "execution_count": 24,
      "outputs": [
        {
          "output_type": "stream",
          "name": "stdout",
          "text": [
            "This is a new line.\n",
            "\n"
          ]
        }
      ]
    },
    {
      "cell_type": "markdown",
      "source": [
        "21.Ques\n",
        "\n",
        "ANS.."
      ],
      "metadata": {
        "id": "1He5KZxgfqji"
      }
    },
    {
      "cell_type": "code",
      "source": [
        "def count_word_in_file(filename, word):\n",
        "    try:\n",
        "        with open(filename, 'r') as file:\n",
        "            content = file.read().lower()  # Read and convert to lowercase for case-insensitive search\n",
        "        word = word.lower()\n",
        "        words = content.split()\n",
        "        count = words.count(word)\n",
        "        print(f\"The word '{word}' occurs {count} times in the file '{filename}'.\")\n",
        "    except FileNotFoundError:\n",
        "        print(f\"Error: The file '{filename}' does not exist.\")\n",
        "    except IOError as e:\n",
        "        print(f\"An I/O error occurred: {e}\")\n",
        "\n",
        "# Example usage\n",
        "filename = 'sample.txt'\n",
        "word_to_count = 'python'\n",
        "count_word_in_file(filename, word_to_count)\n"
      ],
      "metadata": {
        "colab": {
          "base_uri": "https://localhost:8080/"
        },
        "id": "sYkLDbVwftyG",
        "outputId": "ff00f851-8532-40ef-b25f-0107d3a3febe"
      },
      "execution_count": 25,
      "outputs": [
        {
          "output_type": "stream",
          "name": "stdout",
          "text": [
            "Error: The file 'sample.txt' does not exist.\n"
          ]
        }
      ]
    },
    {
      "cell_type": "markdown",
      "source": [
        "22.Ques\n",
        "\n",
        "ANS.."
      ],
      "metadata": {
        "id": "ncIaD0vzgLug"
      }
    },
    {
      "cell_type": "code",
      "source": [
        "import os\n",
        "\n",
        "filename = 'example.txt'\n",
        "\n",
        "if os.path.exists(filename):\n",
        "    if os.path.getsize(filename) > 0:\n",
        "        with open(filename, 'r') as file:\n",
        "            content = file.read()\n",
        "            print(content)\n",
        "    else:\n",
        "        print(f\"The file '{filename}' is empty.\")\n",
        "else:\n",
        "    print(f\"The file '{filename}' does not exist.\")\n"
      ],
      "metadata": {
        "colab": {
          "base_uri": "https://localhost:8080/"
        },
        "id": "IuyI7MgmgQIG",
        "outputId": "83339bb0-5b30-46fb-f230-d646ca58e73f"
      },
      "execution_count": 26,
      "outputs": [
        {
          "output_type": "stream",
          "name": "stdout",
          "text": [
            "This is a new line.\n",
            "\n"
          ]
        }
      ]
    },
    {
      "cell_type": "markdown",
      "source": [
        "23.Ques\n",
        "\n",
        "ANS.."
      ],
      "metadata": {
        "id": "sxVoaINDglUu"
      }
    },
    {
      "cell_type": "code",
      "source": [
        "import logging\n",
        "\n",
        "# Configure logging to write errors to 'file_errors.log'\n",
        "logging.basicConfig(\n",
        "    filename='file_errors.log',\n",
        "    level=logging.ERROR,\n",
        "    format='%(asctime)s - %(levelname)s - %(message)s'\n",
        ")\n",
        "\n",
        "def read_file(filename):\n",
        "    try:\n",
        "        with open(filename, 'r') as file:\n",
        "            content = file.read()\n",
        "            print(\"File content:\")\n",
        "            print(content)\n",
        "    except Exception as e:\n",
        "        logging.error(f\"Error while handling file '{filename}': {e}\")\n",
        "        print(f\"An error occurred. Check 'file_errors.log' for details.\")\n",
        "\n",
        "# Example usage\n",
        "filename = 'nonexistent_file.txt'\n",
        "read_file(filename)\n"
      ],
      "metadata": {
        "colab": {
          "base_uri": "https://localhost:8080/"
        },
        "id": "4fkSNT45gn8G",
        "outputId": "a84b91a1-9fb9-47ba-e48d-e98bd5067093"
      },
      "execution_count": 27,
      "outputs": [
        {
          "output_type": "stream",
          "name": "stderr",
          "text": [
            "ERROR:root:Error while handling file 'nonexistent_file.txt': [Errno 2] No such file or directory: 'nonexistent_file.txt'\n"
          ]
        },
        {
          "output_type": "stream",
          "name": "stdout",
          "text": [
            "An error occurred. Check 'file_errors.log' for details.\n"
          ]
        }
      ]
    },
    {
      "cell_type": "markdown",
      "source": [
        "# THANKYOU   FOR  GREAT  ASSIGNMENT..."
      ],
      "metadata": {
        "id": "cshLuIkTg7MU"
      }
    }
  ],
  "metadata": {
    "colab": {
      "provenance": [],
      "collapsed_sections": [
        "27uRu8byC7vq"
      ]
    },
    "kernelspec": {
      "display_name": "Python 3",
      "name": "python3"
    }
  },
  "nbformat": 4,
  "nbformat_minor": 0
}